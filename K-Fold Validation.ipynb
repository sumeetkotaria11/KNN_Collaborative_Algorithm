{
 "cells": [
  {
   "cell_type": "code",
   "execution_count": 5,
   "metadata": {},
   "outputs": [],
   "source": [
    "import pandas as pd\n",
    "import numpy as np\n",
    "from random import randrange"
   ]
  },
  {
   "cell_type": "code",
   "execution_count": 6,
   "metadata": {},
   "outputs": [],
   "source": [
    "def Split_Model(file_name, k):\n",
    "    \n",
    "    def rating_mat(file_name):\n",
    "        df = pd.read_csv(file_name)\n",
    "        df_pivot = df.pivot(index='userId', columns='movieId', values='rating')\n",
    "        mat = df_pivot.values\n",
    "        return mat\n",
    "    \n",
    "    def dataSplit(mat, split = k):\n",
    "        n = split\n",
    "        all_indices = np.argwhere(~np.isnan(mat))\n",
    "        np.random.shuffle(all_indices)\n",
    "        train_ind, test_ind = all_indices[:int(n*len(all_indices))], all_indices[int(n*len(all_indices))+1:]\n",
    "        train = np.empty(mat.shape)\n",
    "        test = np.empty(mat.shape)\n",
    "        train[:] = np.nan\n",
    "        test[:] = np.nan\n",
    "        for i in train_ind:\n",
    "            train[i[0], i[1]] = mat[i[0], i[1]]\n",
    "        for j in test_ind:\n",
    "            test[j[0], j[1]] = mat[j[0], j[1]]\n",
    "        \n",
    "        return train, test\n",
    "    \n",
    "    def trainingModel(train):\n",
    "        '''Learn the vectors p_u and q_i for users and items'''\n",
    "\n",
    "        n_factors = 15  # number of factors\n",
    "        alpha = .01  # learning rate\n",
    "        n_epochs = 10  # number of iteration of the SGD procedure\n",
    "\n",
    "    # Randomly initialize the user and item factors.\n",
    "        p = np.random.normal(0, .1, (train.shape[0], n_factors))\n",
    "        q = np.random.normal(0, .1, (train.shape[1], n_factors))\n",
    "    \n",
    "        rating_present = np.argwhere(~np.isnan(train))\n",
    "\n",
    "        for _ in range(n_epochs):\n",
    "            for i in rating_present:\n",
    "                err = train[i[0],i[1]] - np.dot(p[i[0]], q[i[1]])\n",
    "            # Update vectors p_u and q_i\n",
    "                p[i[0]] += alpha * err * q[i[1]]\n",
    "                q[i[1]] += alpha * err * p[i[0]]\n",
    "            \n",
    "        return p , q\n",
    "    \n",
    "    def testingModel(test, p, q):\n",
    "        SE = 0\n",
    "        rating_present_test = np.argwhere(~np.isnan(test))\n",
    "        for j in rating_present_test:\n",
    "            error = (test[j[0],j[1]] - np.dot(p[j[0]],q[j[1]]))**2\n",
    "            SE += error\n",
    "        MSE = (SE/len(rating_present_test))\n",
    "        print('The MSE for the model is',k, MSE)\n",
    "        return MSE\n",
    "    \n",
    "    mat = rating_mat(file_name)\n",
    "    train, test = dataSplit(mat)\n",
    "    p, q = trainingModel(train)\n",
    "    testingModel(test, p, q)\n",
    "    "
   ]
  },
  {
   "cell_type": "code",
   "execution_count": 7,
   "metadata": {},
   "outputs": [
    {
     "name": "stdout",
     "output_type": "stream",
     "text": [
      "The MSE for the model is 0.2 3.414105656875951\n",
      "The MSE for the model is 0.30000000000000004 2.2867490553242136\n",
      "The MSE for the model is 0.4 1.884767647147273\n",
      "The MSE for the model is 0.5 1.6390743646106047\n",
      "The MSE for the model is 0.6000000000000001 1.510265623079752\n",
      "The MSE for the model is 0.7000000000000001 1.3978398931661327\n",
      "The MSE for the model is 0.8 1.37764408225474\n",
      "The MSE for the model is 0.9 1.3064373812578163\n"
     ]
    }
   ],
   "source": [
    "for t in range(2, 10):\n",
    "    k = 0.1*t\n",
    "    Split_Model('movie_ratings.csv', k)"
   ]
  },
  {
   "cell_type": "code",
   "execution_count": 4,
   "metadata": {},
   "outputs": [
    {
     "name": "stdout",
     "output_type": "stream",
     "text": [
      "The MSE for the model is 1.3862230906145325\n"
     ]
    }
   ],
   "source": [
    "Split_Model('movie_ratings.csv')"
   ]
  },
  {
   "cell_type": "code",
   "execution_count": 9,
   "metadata": {},
   "outputs": [],
   "source": [
    "def KFOLD_model(file_name, k):\n",
    "    def rating_mat(file_name):\n",
    "        df = pd.read_csv(file_name)\n",
    "        df_pivot = df.pivot(index='userId', columns='movieId', values='rating')\n",
    "        mat = df_pivot.values\n",
    "        return mat\n",
    "    \n",
    "    def trainingModelKFOLD(train_ind):\n",
    "    ## Learn the vectors p_u and q_i for users and items\n",
    "        n_factors = 15  # number of factors\n",
    "        alpha = .01  # learning rate\n",
    "        n_epochs = 10  # number of iteration of the SGD procedure\n",
    "        train = np.empty(mat.shape)\n",
    "    \n",
    "        for i in train_ind:\n",
    "            train[i[0], i[1]] = mat[i[0], i[1]]\n",
    "\n",
    "    ## Randomly initialize the user and item factors.\n",
    "        p = np.random.normal(0, .1, (train.shape[0], n_factors))\n",
    "        q = np.random.normal(0, .1, (train.shape[1], n_factors))\n",
    "        for _ in range(n_epochs):\n",
    "            for i in train_ind:\n",
    "                err = train[i[0],i[1]] - np.dot(p[i[0]], q[i[1]])\n",
    "            # Update vectors p_u and q_i\n",
    "                p[i[0]] += alpha * err * q[i[1]]\n",
    "                q[i[1]] += alpha * err * p[i[0]]\n",
    "        return p , q\n",
    "    \n",
    "    def testingModelKFOLD(test_ind, p, q):\n",
    "        SE = 0\n",
    "        test = np.empty(mat.shape)\n",
    "    \n",
    "        for j in test_ind:\n",
    "            test[j[0], j[1]] = mat[j[0], j[1]]\n",
    "    \n",
    "        for j in test_ind:\n",
    "            error = (test[j[0],j[1]] - np.dot(p[j[0]],q[j[1]]))**2\n",
    "            SE += error\n",
    "        MSE = (SE/len(rating_present))**0.5\n",
    "        return MSE\n",
    "    \n",
    "    def cross_validation_split(dataset, folds=k):\n",
    "        dataset_split = list()\n",
    "        dataset_copy = list(dataset)\n",
    "        fold_size = int(len(dataset) / folds)\n",
    "        for i in range(folds):\n",
    "            fold = list()\n",
    "            while len(fold) < fold_size:\n",
    "                index = randrange(len(dataset_copy))\n",
    "                fold.append(dataset_copy.pop(index))\n",
    "            dataset_split.append(fold)\n",
    "        return dataset_split\n",
    "    \n",
    "    mat = rating_mat(file_name)\n",
    "    rating_present = np.argwhere(~np.isnan(mat))\n",
    "    kfold = cross_validation_split(rating_present)\n",
    "    MSE = 0\n",
    "    for i in range(len(kfold)):\n",
    "        test_ind = kfold[i]\n",
    "        temp = list(kfold)\n",
    "        temp.pop(i)\n",
    "        train_ind = list()\n",
    "        for j in temp:\n",
    "            for i in j:\n",
    "                train_ind.append(i)\n",
    "        p, q = trainingModelKFOLD(train_ind)\n",
    "        MSE += testingModelKFOLD(test_ind, p, q)\n",
    "    Final_MSE = MSE / len(kfold)\n",
    "    print('The MSE for K-Fold is ',k, (k-1)/k, Final_MSE)"
   ]
  },
  {
   "cell_type": "code",
   "execution_count": 4,
   "metadata": {
    "scrolled": true
   },
   "outputs": [
    {
     "name": "stdout",
     "output_type": "stream",
     "text": [
      "The MSE for K-Fold is  0.5197907415708798\n"
     ]
    }
   ],
   "source": [
    "KFOLD_model('movie_ratings.csv')"
   ]
  },
  {
   "cell_type": "code",
   "execution_count": 10,
   "metadata": {},
   "outputs": [
    {
     "name": "stdout",
     "output_type": "stream",
     "text": [
      "The MSE for K-Fold is  2 0.5 0.9208249453314504\n",
      "The MSE for K-Fold is  3 0.6666666666666666 0.69725904312868\n",
      "The MSE for K-Fold is  4 0.75 0.5868887307234306\n",
      "The MSE for K-Fold is  5 0.8 0.5192234490626204\n",
      "The MSE for K-Fold is  6 0.8333333333333334 0.46928731359127224\n",
      "The MSE for K-Fold is  7 0.8571428571428571 0.4328003011580859\n",
      "The MSE for K-Fold is  8 0.875 0.40293676066303785\n",
      "The MSE for K-Fold is  9 0.8888888888888888 0.37927397116940514\n"
     ]
    }
   ],
   "source": [
    "for k in range(2, 10):\n",
    "    KFOLD_model('movie_ratings.csv', k)"
   ]
  },
  {
   "cell_type": "code",
   "execution_count": null,
   "metadata": {},
   "outputs": [],
   "source": []
  }
 ],
 "metadata": {
  "kernelspec": {
   "display_name": "Python 3",
   "language": "python",
   "name": "python3"
  },
  "language_info": {
   "codemirror_mode": {
    "name": "ipython",
    "version": 3
   },
   "file_extension": ".py",
   "mimetype": "text/x-python",
   "name": "python",
   "nbconvert_exporter": "python",
   "pygments_lexer": "ipython3",
   "version": "3.6.4"
  }
 },
 "nbformat": 4,
 "nbformat_minor": 2
}
